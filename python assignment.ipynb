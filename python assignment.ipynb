{
 "cells": [
  {
   "cell_type": "markdown",
   "metadata": {},
   "source": [
    "# Python – Text Files - Assignment"
   ]
  },
  {
   "cell_type": "markdown",
   "metadata": {},
   "source": [
    "# 1.\tYou are given a file called class_scores.txt, where each line of the file contains a oneword\n",
    "username and a test score separated by spaces, like below:.\n",
    "GWashington 83\n",
    "JAdams 86\n",
    "Write code that scans through the file, adds 5 points to each test score, and outputs the usernames and new test scores to a new file, scores2.txt.\n"
   ]
  },
  {
   "cell_type": "code",
   "execution_count": 42,
   "metadata": {},
   "outputs": [
    {
     "name": "stdout",
     "output_type": "stream",
     "text": [
      "3\n",
      "       name  score\n",
      "0     surya     25\n",
      "1  subhodip     35\n",
      "2  abhishek     45\n"
     ]
    },
    {
     "name": "stderr",
     "output_type": "stream",
     "text": [
      "C:\\ProgramData\\Anaconda3\\lib\\site-packages\\ipykernel_launcher.py:6: SettingWithCopyWarning: \n",
      "A value is trying to be set on a copy of a slice from a DataFrame\n",
      "\n",
      "See the caveats in the documentation: http://pandas.pydata.org/pandas-docs/stable/indexing.html#indexing-view-versus-copy\n",
      "  \n"
     ]
    }
   ],
   "source": [
    "import pandas as pd\n",
    "data = pd.read_csv(r'E:\\Assignment\\semester2\\python\\assignments\\class_score.txt', sep=\" \", header=None)\n",
    "data.columns = [\"name\", \"score\"]\n",
    "print(len(data))\n",
    "for i in range (len(data)):\n",
    "    data.score[i]=data.score[i]+5\n",
    "print(data)\n",
    "#file2 = open(r\"E:\\Assignment\\semester2\\python\\assignments\\class_score2.txt\")"
   ]
  },
  {
   "cell_type": "markdown",
   "metadata": {},
   "source": [
    "# 2.\tYou are given a file called grades.txt, where each line of the file contains a one-word student\n",
    "username and three test scores separated by spaces, like below:.\n",
    "GWashington 83 77 54\n",
    "JAdams 86 69 90\n",
    "Write code that scans through the file and determines how many students passed all three\n",
    "tests.\n"
   ]
  },
  {
   "cell_type": "code",
   "execution_count": 103,
   "metadata": {},
   "outputs": [
    {
     "name": "stdout",
     "output_type": "stream",
     "text": [
      "surya ----> status : :fail\n",
      "abhishek --->status : :pass \n",
      "user3 ----> status : :fail\n",
      "subhodip --->status : :pass \n",
      "user2 --->status : :pass \n",
      "   \n",
      "No of person passed : 3\n"
     ]
    }
   ],
   "source": [
    "total_cutoff=80\n",
    "indv_cutoff=25\n",
    "import pandas as pd\n",
    "data = pd.read_csv(r'E:\\Assignment\\semester2\\python\\assignments\\grades.txt', sep=\" \", header=None)\n",
    "data.columns = [\"name\", \"math\",\"physics\",\"chemistry\"]\n",
    "\n",
    "pass_person=0\n",
    "data.math\n",
    "for i in range (len(data)):\n",
    "    l=0\n",
    "    if (data.math[i]<=indv_cutoff or data.chemistry[i]<=indv_cutoff or data.physics[i]<=indv_cutoff):\n",
    "        print(data.name[i],  \"----> status : :fail\")\n",
    "        l=1\n",
    "        \n",
    "    else:\n",
    "        print(data.name[i],  \"--->status : :pass \")\n",
    "        pass_person+=1\n",
    "print(\"   \")\n",
    "print(\"No of person passed :\",pass_person)"
   ]
  },
  {
   "cell_type": "markdown",
   "metadata": {},
   "source": [
    "# 3.\tYou are given a file called logfile.txt that lists log-on and log-off times for users of a system. A typical line of the file looks like this:\n",
    "Van Rossum, 14:22, 14:37\n",
    "Each line has three entries separated by commas: a username, a log-on time, and a log-off\n",
    "time. Times are given in 24-hour format. You may assume that all log-ons and log-offs occur\n",
    "within a single workday.\n",
    "Write a program that scans through the file and prints out all users who were online for at\n",
    "least an hour.\n"
   ]
  },
  {
   "cell_type": "code",
   "execution_count": 117,
   "metadata": {},
   "outputs": [
    {
     "name": "stdout",
     "output_type": "stream",
     "text": [
      "alert!!!\n",
      "surya  waste  2.0  hours in day  \n",
      "alert!!!\n",
      "abhishek  waste  7.0  hours in day  \n"
     ]
    }
   ],
   "source": [
    "import datetime as dt\n",
    "import pandas as pd\n",
    "data = pd.read_csv(r'E:\\Assignment\\semester2\\python\\assignments\\logfile.txt', sep=\" \", header=None)\n",
    "data.columns = [\"name\", \"login\",\"logoff\"]\n",
    "\n",
    "for i in range (len(data)):\n",
    "    #for j in range (len(inoff[i])):\n",
    "        \n",
    "        start=data.login[i]\n",
    "        end=data.logoff[i]\n",
    "        start_dt = dt.datetime.strptime(start, '%H:%M')\n",
    "        end_dt = dt.datetime.strptime(end, '%H:%M')\n",
    "        diff = (end_dt - start_dt) \n",
    "        diff.seconds/60 \n",
    "        #print(diff)\n",
    "        #print(type(diff))\n",
    "        #print(diff)\n",
    "        if ((diff.seconds)>=(2*3600)):\n",
    "            print(\"alert!!!\")\n",
    "            print(data.name[i],\" waste \",diff.seconds/3600,\" hours in day  \")\n",
    "            "
   ]
  },
  {
   "cell_type": "markdown",
   "metadata": {},
   "source": [
    "# 4.\tYou are given a file called students.txt. A typical line in the file looks like:\n",
    "walter melon melon@email.msmary.edu 555-3141\n",
    "There is a name, an email address, and a phone number, each separated by tabs. Write a\n",
    "program that reads through the file line-by-line, and for each line, capitalizes the first letter\n",
    "of the first and last name and adds the area code 301 to the phone number. Your program\n",
    "should write this to a new file called students2.txt. Here is what the first line of the new\n",
    "file should look like:\n",
    "Walter Melon melon@email.msmary.edu 301-555-3141\n"
   ]
  },
  {
   "cell_type": "code",
   "execution_count": 104,
   "metadata": {
    "scrolled": false
   },
   "outputs": [
    {
     "name": "stdout",
     "output_type": "stream",
     "text": [
      "      fname    lname                email      number\n",
      "0     Surya      Das  das.surya@gmail.com  +9199-3455\n",
      "1  Abhishek  Chauhan   kuchibhi@gmail.com  +9190-8448\n",
      "2  Subhodip    Panda         su@gmail.com   +9190-909\n"
     ]
    }
   ],
   "source": [
    "import pandas as pd\n",
    "data = pd.read_csv(r'E:\\Assignment\\semester2\\python\\assignments\\students_d.txt', sep=\" \", header=None)\n",
    "data.columns = [\"fname\", \"lname\",\"email\",\"number\"]\n",
    "details=[data.fname,data.lname,data.email,data.number]\n",
    "\n",
    "for i in range(len(data)):\n",
    "  #print(data.fname[i])\n",
    "    data.fname[i]=data.fname[i].title()\n",
    "    data.lname[i]=data.lname[i].title()\n",
    "    data.email[i]=data.email[i]\n",
    "    data.number[i]=str(\"+91\" + str(data.number[i]))\n",
    "print(data)"
   ]
  },
  {
   "cell_type": "markdown",
   "metadata": {},
   "source": [
    "# 5.\tYou are given a file namelist.txt that contains a bunch of names. Some of the names are\n",
    "a first name and a last name separated by spaces, like George Washington, while others have\n",
    "a middle name, like John Quincy Adams. There are no names consisting of just one word or\n",
    "more than three words. Write a program that asks the user to enter initials, like GW or JQA,\n",
    "and prints all the names that match those initials. Note that initials like JA should match both\n",
    "John Adams and John Quincy Adams.\n"
   ]
  },
  {
   "cell_type": "code",
   "execution_count": 129,
   "metadata": {},
   "outputs": [
    {
     "name": "stdout",
     "output_type": "stream",
     "text": [
      "enter the short name  SD\n",
      "original name is  Surya Das\n"
     ]
    }
   ],
   "source": [
    "import pandas as pd\n",
    "import nltk\n",
    "data = pd.read_csv(r'E:\\Assignment\\semester2\\python\\assignments\\namelist.txt', header=None)\n",
    "data.columns = [\"name\"]\n",
    "data\n",
    "collect_short=[]\n",
    "original_name=[]\n",
    "for i in range(len(data)):\n",
    "    name_token=nltk.word_tokenize(data.name[i])\n",
    "    #print(len(name_token))\n",
    "    if (len(name_token)>2):\n",
    "        short=name_token[0][0]+name_token[2][0]\n",
    "        #print(short)\n",
    "        collect_short.append(short)\n",
    "        original_name.append(data.name[i])\n",
    "    else:\n",
    "        short=name_token[0][0]+name_token[1][0]\n",
    "        #print(short)\n",
    "        collect_short.append(short)\n",
    "        original_name.append(data.name[i])\n",
    "#print(collect_short)\n",
    "#print(original_name)\n",
    "l=0\n",
    "a=input(\"enter the short name  \")\n",
    "for i in range(len(collect_short)):\n",
    "    if a==collect_short[i]:\n",
    "        print(\"original name is \",original_name[i])\n",
    "        l=1\n",
    "    else:\n",
    "        pass\n",
    "    \n",
    "if l==0:\n",
    "    print(\"sorry we didn't find it\")\n",
    "\n"
   ]
  },
  {
   "cell_type": "markdown",
   "metadata": {},
   "source": [
    "\n",
    "# 6.\tYou are given a file namelist.txt that contains a bunch of names. \n",
    "Print out all the names in the list in which the vowels a, e, i, o, and u appear in order (with repeats possible). The first vowel in the name must be a and after the first u, it is okay for there to be other vowels. An example is Ace Elvin Coulson.\n"
   ]
  },
  {
   "cell_type": "code",
   "execution_count": 139,
   "metadata": {},
   "outputs": [
    {
     "name": "stdout",
     "output_type": "stream",
     "text": [
      "required names are  ['ey', 'pitbull', 'ace', 'abcdef']\n"
     ]
    }
   ],
   "source": [
    "def namevow(name) :\n",
    "    vowel=\"aeiou\"\n",
    "    \n",
    "    reqname=[]\n",
    "    for i in range (len(name)):\n",
    "        namevow=set(name[i]) & set(vowel)\n",
    "        #print(namevow)\n",
    "        namevow=list(namevow)\n",
    "        namevowact=[]\n",
    "        for j in range(len(name[i])):\n",
    "         #for j in range(len(name))\n",
    "            if name[i][j] in vowel:\n",
    "                namevowact.append(name[i][j])\n",
    "        #print(\"namevowact\",namevowact)\n",
    "        namevow.sort()\n",
    "        #print(\"namevow\",namevow)\n",
    "        l=0\n",
    "        for j in range(len(namevowact)):\n",
    "            if (namevowact[j]==namevow[j]):\n",
    "                l=l+1\n",
    "            else:\n",
    "                pass\n",
    "        if (l==len(namevow)):\n",
    "            #print(\"yes this is it\")\n",
    "            reqname.append(name[i])\n",
    "        else:\n",
    "            #print('No man')\n",
    "            pass\n",
    "\n",
    "\n",
    "    print(\"required names are \",reqname)\n",
    "name=['ice','ey','pitbull','ace','abcdef','egab']\n",
    "namevow(name)"
   ]
  },
  {
   "cell_type": "markdown",
   "metadata": {},
   "source": [
    "# 7.\tYou are given a file called baseball.txt. A typical line of the file starts like below.\n",
    "Ichiro Suzuki SEA 162 680 74 ...[more stats]\n",
    "Each entry is separated by a tab, \\t. The first entry is the player’s name and the second is\n",
    "their team. Following that are 16 statistics. Home runs are the seventh stat and stolen bases\n",
    "are the eleventh. Print out all the players who have at least 20 home runs and at least 20 stolen\n",
    "bases.\n",
    "*here I have take 1st column =name\n",
    "2nd column=team\n",
    "3rd column=symbol\n",
    "4th column=home_runs\n",
    "5th column=stolen_bases"
   ]
  },
  {
   "cell_type": "code",
   "execution_count": 41,
   "metadata": {},
   "outputs": [
    {
     "name": "stdout",
     "output_type": "stream",
     "text": [
      "surya\n"
     ]
    }
   ],
   "source": [
    "import pandas as pd\n",
    "import nltk\n",
    "data = pd.read_csv(r'E:\\Assignment\\semester2\\python\\assignments\\baseball.txt', sep='\\t',header=None)\n",
    "data.columns = [\"name\",\"team\",\"symbol\",\"home_runs\",\"stolen_bases\"]\n",
    "#print(len(data))\n",
    "#data.name[2]\n",
    "#print(type(data.stolen_bases[1]))\n",
    "for i in range(len(data)):\n",
    "    if ((data.home_runs[i]>=20) and (data.stolen_bases[i]>=20)):\n",
    "        print(data.name[i])\n",
    "    else:\n",
    "        pass"
   ]
  },
  {
   "cell_type": "code",
   "execution_count": null,
   "metadata": {},
   "outputs": [],
   "source": []
  },
  {
   "cell_type": "markdown",
   "metadata": {},
   "source": [
    "# 10.\tWordplay – Use the file wordlist.txt for this problem. Find the following:"
   ]
  },
  {
   "cell_type": "markdown",
   "metadata": {},
   "source": [
    "# (a) All words ending in ime"
   ]
  },
  {
   "cell_type": "code",
   "execution_count": 146,
   "metadata": {},
   "outputs": [
    {
     "name": "stdout",
     "output_type": "stream",
     "text": [
      "['abcime', 'beeime']\n"
     ]
    }
   ],
   "source": [
    "name=[\"abcime\",\"bde\",\"beeime\"]\n",
    "req_name=[]\n",
    "for i in range (len(name)):\n",
    "    if name[i][-3:]==\"ime\":\n",
    "        req_name.append(name[i])\n",
    "    else:\n",
    "        pass\n",
    "print(req_name)"
   ]
  },
  {
   "cell_type": "markdown",
   "metadata": {},
   "source": [
    "# (b) All words whose second, third, and fourth letters are ave"
   ]
  },
  {
   "cell_type": "code",
   "execution_count": 148,
   "metadata": {},
   "outputs": [
    {
     "name": "stdout",
     "output_type": "stream",
     "text": [
      "['aaveb', 'bavee']\n"
     ]
    }
   ],
   "source": [
    "name=[\"aaveb\",\"bavee\",\"beeime\"]\n",
    "req_name=[]\n",
    "for i in range (len(name)):\n",
    "    if name[i][1:4]==\"ave\":\n",
    "        req_name.append(name[i])\n",
    "    else:\n",
    "        pass\n",
    "print(req_name)"
   ]
  },
  {
   "cell_type": "markdown",
   "metadata": {},
   "source": [
    "# boring stuff"
   ]
  }
 ],
 "metadata": {
  "kernelspec": {
   "display_name": "Python 3",
   "language": "python",
   "name": "python3"
  },
  "language_info": {
   "codemirror_mode": {
    "name": "ipython",
    "version": 3
   },
   "file_extension": ".py",
   "mimetype": "text/x-python",
   "name": "python",
   "nbconvert_exporter": "python",
   "pygments_lexer": "ipython3",
   "version": "3.7.1"
  }
 },
 "nbformat": 4,
 "nbformat_minor": 2
}
